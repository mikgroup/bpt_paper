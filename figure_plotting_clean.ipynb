{
 "cells": [
  {
   "cell_type": "code",
   "execution_count": 1,
   "id": "469b4c22-d42a-49c1-a458-35dbf27010e0",
   "metadata": {},
   "outputs": [],
   "source": [
    "%matplotlib widget\n",
    "import matplotlib.pyplot as plt\n",
    "import figure_plotting as pl\n",
    "import numpy as np\n",
    "\n",
    "import os\n",
    "import sys\n",
    "from get_bpt import *\n",
    "from plot_bpt import *\n",
    "import bpt_processing as proc\n",
    "import run_bpt as run"
   ]
  },
  {
   "cell_type": "code",
   "execution_count": 8,
   "id": "f5a7ce83-ba4d-4bad-900e-6d9e08856fd6",
   "metadata": {},
   "outputs": [],
   "source": [
    "# Define plot parameters\n",
    "plt.rcParams.update({'axes.spines.right':False,\n",
    "                    'axes.spines.top':False,\n",
    "                    'font.size': 14,\n",
    "                    'axes.titlesize':20, # fontsize of the axes title\n",
    "                    'axes.labelsize':20,\n",
    "                    'axes.linewidth':2,\n",
    "                    'legend.fontsize':18,\n",
    "                    'xtick.labelsize':18,\n",
    "                    'ytick.labelsize':18,\n",
    "                    'lines.linewidth':2\n",
    "                    })"
   ]
  },
  {
   "cell_type": "code",
   "execution_count": null,
   "id": "bf7e1306-04ee-4880-8069-e9f6321c1ccf",
   "metadata": {},
   "outputs": [],
   "source": [
    "# Set data directory\n",
    "\n",
    "# Download the data\n",
    "url = 'https://drive.google.com/uc?id=1g3J-GC6oaxYquc296kdYaX5fLFgYM8ti'\n",
    "output = 'data.zip'\n",
    "gdown.download(url, output, quiet=False)\n",
    "# Extract data to directory\n",
    "with zipfile.ZipFile(\"data.zip\",\"r\") as zip_ref:\n",
    "    zip_ref.extractall()\n"
   ]
  },
  {
   "cell_type": "markdown",
   "id": "714fbd03-5f37-43ca-99c7-7c2b1e3b2747",
   "metadata": {},
   "source": [
    "# Fig 1: Concept Figure"
   ]
  },
  {
   "cell_type": "code",
   "execution_count": 6,
   "id": "2c989477-5a39-4240-aa74-9a11bdc36d0d",
   "metadata": {},
   "outputs": [],
   "source": [
    "# Extract respiratory, cardiac, and head motion signals from BPT\n",
    "\n",
    "# Plot respiratory, cardiac, and head motion in the same plot\n",
    "pl.plot_motion_signals(inpdir=\"./concept\", shift=-5)\n",
    "plt.close()"
   ]
  },
  {
   "cell_type": "markdown",
   "id": "848c1006-bcfa-408f-be2a-ca0e18ae214e",
   "metadata": {
    "tags": []
   },
   "source": [
    "# BPT Acq"
   ]
  },
  {
   "cell_type": "code",
   "execution_count": 7,
   "id": "8fdbe586-8389-4b60-9c1a-6d6793c88def",
   "metadata": {},
   "outputs": [],
   "source": [
    "# Plot params for this figure\n",
    "plt.rcParams.update({'axes.spines.right':False,\n",
    "                    'axes.spines.top':False,\n",
    "                    'axes.labelsize':18,\n",
    "                    'xtick.labelsize':16,\n",
    "                    'lines.linewidth':2\n",
    "                    })\n",
    "# Input directory\n",
    "inpdir = \"./bpt_acq\""
   ]
  },
  {
   "cell_type": "code",
   "execution_count": 8,
   "id": "6c9262bd-05a1-40cc-945d-3fe843e40184",
   "metadata": {},
   "outputs": [],
   "source": [
    "# Plot 3D ksp vs time and frequency graph\n",
    "pl.plot_ksp_f(inpdir)\n",
    "plt.close()"
   ]
  },
  {
   "cell_type": "code",
   "execution_count": 2,
   "id": "5950bd1e-4a09-493c-a64b-2571db58b192",
   "metadata": {},
   "outputs": [],
   "source": [
    "# Plot cardiac signals with overlaid purple points\n",
    "pl.plot_cardiac_signals(inpdir=\"./bpt_acq\")\n",
    "plt.close()"
   ]
  },
  {
   "cell_type": "markdown",
   "id": "c901cb27-a92f-4270-a4b4-df54c5db4d2d",
   "metadata": {},
   "source": [
    "# Rocker simulation"
   ]
  },
  {
   "cell_type": "code",
   "execution_count": 3,
   "id": "948951a1-ede5-4ab3-8461-187ac817201a",
   "metadata": {},
   "outputs": [],
   "source": [
    "# Plot H-field magnitudes at 127.8MHz and 2.4/2.5278GHz\n",
    "inpdir = \"./sim/h_fields\"\n",
    "pl.plot_field_w_coils(inpdir, figsize=(16.7,5), xlim=[-45,35], ylim=[-35,35])\n",
    "plt.close()"
   ]
  },
  {
   "cell_type": "code",
   "execution_count": 9,
   "id": "53939923-9302-4eaf-8bd5-b1194464c313",
   "metadata": {},
   "outputs": [],
   "source": [
    "plt.rcParams.update({'axes.titlesize':18, # fontsize of the axes title\n",
    "                    'figure.titlesize':18, # suptitle\n",
    "                    'axes.labelsize':16,\n",
    "                    'legend.fontsize':14,\n",
    "                    'xtick.labelsize':14,\n",
    "                    'ytick.labelsize':14,\n",
    "                    'lines.linewidth':3\n",
    "                    })"
   ]
  },
  {
   "cell_type": "code",
   "execution_count": 11,
   "id": "85ddce71-efd4-4ca1-9d3b-bbeca12080bc",
   "metadata": {},
   "outputs": [],
   "source": [
    "# Plot simulated BPT data\n",
    "inpdir = \"./sim/sim_bpt\"\n",
    "f_combined = pl.plot_sim(inpdir, xlims=[0,10], mirror=True, figsize=(12,5))\n",
    "plt.close()"
   ]
  },
  {
   "cell_type": "code",
   "execution_count": 12,
   "id": "f51f42a3-9d0d-4316-8af2-443ecf98f422",
   "metadata": {},
   "outputs": [],
   "source": [
    "# Plot measured BPT data\n",
    "inpdir = \"./sim/meas_bpt\"\n",
    "pl.plot_meas_data(inpdir, f_combined, figsize=(12,5), c=np.array([9,8,10]))\n",
    "plt.close()"
   ]
  },
  {
   "cell_type": "markdown",
   "id": "9c19feed-aef8-4019-adfb-209035e1cd09",
   "metadata": {},
   "source": [
    "# Rocker vibration"
   ]
  },
  {
   "cell_type": "code",
   "execution_count": null,
   "id": "5ded3e7b-3795-4362-a9f9-7b1daa80b383",
   "metadata": {},
   "outputs": [],
   "source": [
    "def plot_vibration(pt_mag, t_starts, f_combined, period=12,\n",
    "                   shifts=[-30, -50, -500, -100, -100, -100],\n",
    "                   c_inds=np.arange(16,20),\n",
    "                   figsize=(10,10), lw=2, cutoffs=[1,1,1,5,5,5]):\n",
    "    # Plot\n",
    "    if len(folder_list) > 3:\n",
    "        nrows = 2\n",
    "    else:\n",
    "        nrows = 1\n",
    "    fig, ax = plt.subplots(nrows=nrows, ncols=3, figsize=figsize)\n",
    "    axs = ax.flatten()\n",
    "\n",
    "    for i, folder in enumerate(folder_list):\n",
    "        t_start = t_starts[i]\n",
    "        t = np.arange(pt_obj.dims[1])*pt_obj.tr - t_start\n",
    "        # Loop over coils\n",
    "        for idx, c in enumerate(c_inds):\n",
    "            pt = pt_mag[...,c]\n",
    "            shift = shifts[i]\n",
    "            line = axs[i].plot(t, (pt - np.mean(pt)) + shift*idx, label = \"Coil {}\".format(c-16), lw=lw)\n",
    "\n",
    "        axs[i].set_xlim([0, period])\n",
    "        \n",
    "        axs[i].set_yticks([])\n",
    "        axs[i].set_title(str(f_combined[i]) + \"MHz\")\n",
    "        if i > 2 and nrows == 2:\n",
    "            axs[i].set_xlabel(\"Time (s)\")\n",
    "        elif nrows == 1:\n",
    "            axs[i].set_xlabel(\"Time (s)\")\n",
    "    plt.show()\n",
    "    plt.savefig(fname + \".png\", dpi=300, transparent=True)\n",
    "\n",
    "    # Make legend\n",
    "    lines = []\n",
    "    labels = []\n",
    "    for ax in fig.axes:\n",
    "        Line, Label = ax.get_legend_handles_labels()\n",
    "        lines.extend(Line)\n",
    "        labels.extend(Label)\n",
    "    legendfig = plt.figure()\n",
    "    legendfig.legend(lines[:len(c_inds)], labels[:len(c_inds)], loc='center')\n",
    "    plt.savefig(fname + \"_legend.png\", dpi=300, transparent=True)\n",
    "    \n",
    "    "
   ]
  }
 ],
 "metadata": {
  "kernelspec": {
   "display_name": "Python 3 (ipykernel)",
   "language": "python",
   "name": "python3"
  },
  "language_info": {
   "codemirror_mode": {
    "name": "ipython",
    "version": 3
   },
   "file_extension": ".py",
   "mimetype": "text/x-python",
   "name": "python",
   "nbconvert_exporter": "python",
   "pygments_lexer": "ipython3",
   "version": "3.7.11"
  }
 },
 "nbformat": 4,
 "nbformat_minor": 5
}
